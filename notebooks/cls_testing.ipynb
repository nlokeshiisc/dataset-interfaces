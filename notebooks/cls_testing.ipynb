{
 "cells": [
  {
   "cell_type": "code",
   "execution_count": 1,
   "metadata": {},
   "outputs": [],
   "source": [
    "%load_ext autoreload\n",
    "%autoreload 2"
   ]
  },
  {
   "cell_type": "code",
   "execution_count": 2,
   "metadata": {},
   "outputs": [],
   "source": [
    "import os\n",
    "os.chdir(\"/raid/infolab/nlokesh/dataset-interfaces\")\n",
    "import sys\n",
    "sys.path.append(\"/raid/infolab/nlokesh/dataset-interfaces\")\n",
    "\n",
    "device = \"cuda:5\""
   ]
  },
  {
   "cell_type": "code",
   "execution_count": 16,
   "metadata": {},
   "outputs": [],
   "source": [
    "from src import main_helper as mh\n",
    "import constants as constants\n",
    "from src import models\n",
    "from pathlib import Path\n",
    "from dataset_interfaces import imagenet_utils as imu\n",
    "from tqdm import tqdm\n",
    "import torch\n",
    "from utils import torch_utils as tu\n",
    "import pandas as pd\n",
    "import numpy as np"
   ]
  },
  {
   "cell_type": "markdown",
   "metadata": {},
   "source": [
    "# Cls testing given folder name"
   ]
  },
  {
   "cell_type": "code",
   "execution_count": 4,
   "metadata": {},
   "outputs": [
    {
     "name": "stderr",
     "output_type": "stream",
     "text": [
      "/raid/infolab/nlokesh/anaconda3/envs/simrec/lib/python3.10/site-packages/torchvision/models/_utils.py:208: UserWarning: The parameter 'pretrained' is deprecated since 0.13 and may be removed in the future, please use 'weights' instead.\n",
      "  warnings.warn(\n",
      "/raid/infolab/nlokesh/anaconda3/envs/simrec/lib/python3.10/site-packages/torchvision/models/_utils.py:223: UserWarning: Arguments other than a weight enum or `None` for 'weights' are deprecated since 0.13 and may be removed in the future. The current behavior is equivalent to passing `weights=ResNet50_Weights.IMAGENET1K_V1`. You can also use `weights=ResNet50_Weights.DEFAULT` to get the most up-to-date weights.\n",
      "  warnings.warn(msg)\n"
     ]
    },
    {
     "name": "stdout",
     "output_type": "stream",
     "text": [
      "[PosixPath('/raid/infolab/nlokesh/pranava/recourse-counterfactual-simulator/prompt-to-prompt/synthetic_data/NTI_rain'), PosixPath('/raid/infolab/nlokesh/pranava/recourse-counterfactual-simulator/prompt-to-prompt/synthetic_data/P2P_snow'), PosixPath('/raid/infolab/nlokesh/pranava/recourse-counterfactual-simulator/prompt-to-prompt/synthetic_data/NTI_dusk'), PosixPath('/raid/infolab/nlokesh/pranava/recourse-counterfactual-simulator/prompt-to-prompt/synthetic_data/P2P_sunlight'), PosixPath('/raid/infolab/nlokesh/pranava/recourse-counterfactual-simulator/prompt-to-prompt/synthetic_data/NTI_night'), PosixPath('/raid/infolab/nlokesh/pranava/recourse-counterfactual-simulator/prompt-to-prompt/synthetic_data/NTI_sunlight'), PosixPath('/raid/infolab/nlokesh/pranava/recourse-counterfactual-simulator/prompt-to-prompt/synthetic_data/P2P_rain'), PosixPath('/raid/infolab/nlokesh/pranava/recourse-counterfactual-simulator/prompt-to-prompt/synthetic_data/NTI_base'), PosixPath('/raid/infolab/nlokesh/pranava/recourse-counterfactual-simulator/prompt-to-prompt/synthetic_data/NTI_forest'), PosixPath('/raid/infolab/nlokesh/pranava/recourse-counterfactual-simulator/prompt-to-prompt/synthetic_data/NTI_fog'), PosixPath('/raid/infolab/nlokesh/pranava/recourse-counterfactual-simulator/prompt-to-prompt/synthetic_data/P2P_fog'), PosixPath('/raid/infolab/nlokesh/pranava/recourse-counterfactual-simulator/prompt-to-prompt/synthetic_data/P2P_night'), PosixPath('/raid/infolab/nlokesh/pranava/recourse-counterfactual-simulator/prompt-to-prompt/synthetic_data/P2P_dusk'), PosixPath('/raid/infolab/nlokesh/pranava/recourse-counterfactual-simulator/prompt-to-prompt/synthetic_data/NTI_snow'), PosixPath('/raid/infolab/nlokesh/pranava/recourse-counterfactual-simulator/prompt-to-prompt/synthetic_data/P2P_base'), PosixPath('/raid/infolab/nlokesh/pranava/recourse-counterfactual-simulator/prompt-to-prompt/synthetic_data/P2P_forest')]\n"
     ]
    }
   ],
   "source": [
    "cls_model = mh.get_model(model_name=\"resnet50\", pretrn=True)\n",
    "syn_dir = Path(\"/raid/infolab/nlokesh/pranava/recourse-counterfactual-simulator/prompt-to-prompt/synthetic_data\")\n",
    "dirs = list(syn_dir.glob(\"*\"))\n",
    "print(dirs)"
   ]
  },
  {
   "cell_type": "code",
   "execution_count": 5,
   "metadata": {},
   "outputs": [
    {
     "name": "stderr",
     "output_type": "stream",
     "text": [
      "  0%|          | 0/4 [00:00<?, ?it/s]"
     ]
    },
    {
     "name": "stderr",
     "output_type": "stream",
     "text": [
      "100%|██████████| 4/4 [00:03<00:00,  1.25it/s]\n"
     ]
    },
    {
     "name": "stdout",
     "output_type": "stream",
     "text": [
      "Dir: /raid/infolab/nlokesh/pranava/recourse-counterfactual-simulator/prompt-to-prompt/synthetic_data/NTI_rain Accuracy: 0.6 :: avg cnf: 0.6916853189468384\n"
     ]
    },
    {
     "name": "stderr",
     "output_type": "stream",
     "text": [
      "100%|██████████| 2/2 [00:00<00:00,  3.17it/s]\n"
     ]
    },
    {
     "name": "stdout",
     "output_type": "stream",
     "text": [
      "Dir: /raid/infolab/nlokesh/pranava/recourse-counterfactual-simulator/prompt-to-prompt/synthetic_data/P2P_snow Accuracy: 0.62 :: avg cnf: 0.7329110503196716\n"
     ]
    },
    {
     "name": "stderr",
     "output_type": "stream",
     "text": [
      "100%|██████████| 4/4 [00:00<00:00,  6.56it/s]\n"
     ]
    },
    {
     "name": "stdout",
     "output_type": "stream",
     "text": [
      "Dir: /raid/infolab/nlokesh/pranava/recourse-counterfactual-simulator/prompt-to-prompt/synthetic_data/NTI_dusk Accuracy: 0.55 :: avg cnf: 0.6938286423683167\n"
     ]
    },
    {
     "name": "stderr",
     "output_type": "stream",
     "text": [
      "100%|██████████| 2/2 [00:00<00:00,  3.23it/s]\n"
     ]
    },
    {
     "name": "stdout",
     "output_type": "stream",
     "text": [
      "Dir: /raid/infolab/nlokesh/pranava/recourse-counterfactual-simulator/prompt-to-prompt/synthetic_data/P2P_sunlight Accuracy: 0.7 :: avg cnf: 0.7380140423774719\n"
     ]
    },
    {
     "name": "stderr",
     "output_type": "stream",
     "text": [
      "100%|██████████| 4/4 [00:00<00:00,  6.19it/s]\n"
     ]
    },
    {
     "name": "stdout",
     "output_type": "stream",
     "text": [
      "Dir: /raid/infolab/nlokesh/pranava/recourse-counterfactual-simulator/prompt-to-prompt/synthetic_data/NTI_night Accuracy: 0.56 :: avg cnf: 0.6585364937782288\n"
     ]
    },
    {
     "name": "stderr",
     "output_type": "stream",
     "text": [
      "100%|██████████| 4/4 [00:00<00:00,  6.26it/s]\n"
     ]
    },
    {
     "name": "stdout",
     "output_type": "stream",
     "text": [
      "Dir: /raid/infolab/nlokesh/pranava/recourse-counterfactual-simulator/prompt-to-prompt/synthetic_data/NTI_sunlight Accuracy: 0.56 :: avg cnf: 0.6792894005775452\n"
     ]
    },
    {
     "name": "stderr",
     "output_type": "stream",
     "text": [
      "100%|██████████| 2/2 [00:00<00:00,  3.28it/s]\n"
     ]
    },
    {
     "name": "stdout",
     "output_type": "stream",
     "text": [
      "Dir: /raid/infolab/nlokesh/pranava/recourse-counterfactual-simulator/prompt-to-prompt/synthetic_data/P2P_rain Accuracy: 0.68 :: avg cnf: 0.7356715798377991\n"
     ]
    },
    {
     "name": "stderr",
     "output_type": "stream",
     "text": [
      "100%|██████████| 4/4 [00:00<00:00,  6.06it/s]\n"
     ]
    },
    {
     "name": "stdout",
     "output_type": "stream",
     "text": [
      "Dir: /raid/infolab/nlokesh/pranava/recourse-counterfactual-simulator/prompt-to-prompt/synthetic_data/NTI_base Accuracy: 0.91 :: avg cnf: 0.8529682755470276\n"
     ]
    },
    {
     "name": "stderr",
     "output_type": "stream",
     "text": [
      "100%|██████████| 4/4 [00:00<00:00,  5.83it/s]\n"
     ]
    },
    {
     "name": "stdout",
     "output_type": "stream",
     "text": [
      "Dir: /raid/infolab/nlokesh/pranava/recourse-counterfactual-simulator/prompt-to-prompt/synthetic_data/NTI_forest Accuracy: 0.62 :: avg cnf: 0.7287693619728088\n"
     ]
    },
    {
     "name": "stderr",
     "output_type": "stream",
     "text": [
      "100%|██████████| 4/4 [00:00<00:00,  6.44it/s]\n"
     ]
    },
    {
     "name": "stdout",
     "output_type": "stream",
     "text": [
      "Dir: /raid/infolab/nlokesh/pranava/recourse-counterfactual-simulator/prompt-to-prompt/synthetic_data/NTI_fog Accuracy: 0.57 :: avg cnf: 0.7003949284553528\n"
     ]
    },
    {
     "name": "stderr",
     "output_type": "stream",
     "text": [
      "100%|██████████| 2/2 [00:00<00:00,  3.14it/s]\n"
     ]
    },
    {
     "name": "stdout",
     "output_type": "stream",
     "text": [
      "Dir: /raid/infolab/nlokesh/pranava/recourse-counterfactual-simulator/prompt-to-prompt/synthetic_data/P2P_fog Accuracy: 0.64 :: avg cnf: 0.7595811486244202\n"
     ]
    },
    {
     "name": "stderr",
     "output_type": "stream",
     "text": [
      "100%|██████████| 2/2 [00:00<00:00,  3.09it/s]\n"
     ]
    },
    {
     "name": "stdout",
     "output_type": "stream",
     "text": [
      "Dir: /raid/infolab/nlokesh/pranava/recourse-counterfactual-simulator/prompt-to-prompt/synthetic_data/P2P_night Accuracy: 0.72 :: avg cnf: 0.7541725635528564\n"
     ]
    },
    {
     "name": "stderr",
     "output_type": "stream",
     "text": [
      "100%|██████████| 2/2 [00:00<00:00,  3.05it/s]\n"
     ]
    },
    {
     "name": "stdout",
     "output_type": "stream",
     "text": [
      "Dir: /raid/infolab/nlokesh/pranava/recourse-counterfactual-simulator/prompt-to-prompt/synthetic_data/P2P_dusk Accuracy: 0.7 :: avg cnf: 0.7512997388839722\n"
     ]
    },
    {
     "name": "stderr",
     "output_type": "stream",
     "text": [
      "100%|██████████| 4/4 [00:00<00:00,  5.86it/s]\n"
     ]
    },
    {
     "name": "stdout",
     "output_type": "stream",
     "text": [
      "Dir: /raid/infolab/nlokesh/pranava/recourse-counterfactual-simulator/prompt-to-prompt/synthetic_data/NTI_snow Accuracy: 0.56 :: avg cnf: 0.6816549301147461\n"
     ]
    },
    {
     "name": "stderr",
     "output_type": "stream",
     "text": [
      "100%|██████████| 2/2 [00:00<00:00,  3.17it/s]\n"
     ]
    },
    {
     "name": "stdout",
     "output_type": "stream",
     "text": [
      "Dir: /raid/infolab/nlokesh/pranava/recourse-counterfactual-simulator/prompt-to-prompt/synthetic_data/P2P_base Accuracy: 0.8 :: avg cnf: 0.798870325088501\n"
     ]
    },
    {
     "name": "stderr",
     "output_type": "stream",
     "text": [
      "100%|██████████| 2/2 [00:00<00:00,  3.03it/s]"
     ]
    },
    {
     "name": "stdout",
     "output_type": "stream",
     "text": [
      "Dir: /raid/infolab/nlokesh/pranava/recourse-counterfactual-simulator/prompt-to-prompt/synthetic_data/P2P_forest Accuracy: 0.64 :: avg cnf: 0.7440425157546997\n"
     ]
    },
    {
     "name": "stderr",
     "output_type": "stream",
     "text": [
      "\n"
     ]
    }
   ],
   "source": [
    "def evaluate_dir(dir):\n",
    "    \"\"\"Evaluates the cls model on the given directory\n",
    "\n",
    "    Args:\n",
    "        dir (_type_): _description_\n",
    "    \"\"\"\n",
    "    ds, dl = mh.get_cls_ds(data_dir=dir, loader=True)\n",
    "\n",
    "    pbar = tqdm(dl, total=len(dl))\n",
    "    cls_model.eval()\n",
    "    cls_model.to(device, dtype=torch.float)\n",
    "    acc_meter = tu.AccuracyMeter(track=[\"acc\"])\n",
    "    acc_meter.reset()\n",
    "    cnfs = []\n",
    "\n",
    "    with torch.no_grad():\n",
    "        for index, path, sample, target in pbar:\n",
    "            sysnet = [Path(p).parent.name for p in path]\n",
    "            cls_ids = [imu.sysnet_to_clsid[sys] for sys in sysnet]\n",
    "            cls_ids = torch.tensor(cls_ids).to(device, dtype=torch.long)\n",
    "            sample = sample.to(device, dtype=torch.float)\n",
    "            logits = cls_model(sample)\n",
    "            \n",
    "            preds = torch.argmax(logits, dim=1)\n",
    "            \n",
    "            cnf = torch.nn.functional.softmax(logits, dim=1)\n",
    "            cnf, _ = torch.max(cnf, dim=1)\n",
    "            cnfs.append(cnf)\n",
    "            acc_meter.update(y_preds=preds, y=cls_ids)\n",
    "    print(f\"Dir: {dir} Accuracy: {acc_meter.accuracy()} :: avg cnf: {torch.mean(torch.cat(cnfs)).item()}\")\n",
    "\n",
    "for dir in dirs:\n",
    "    evaluate_dir(dir)"
   ]
  },
  {
   "cell_type": "markdown",
   "metadata": {},
   "source": [
    "# Get the Dataset Interfaces Accuracies"
   ]
  },
  {
   "cell_type": "code",
   "execution_count": 19,
   "metadata": {},
   "outputs": [
    {
     "name": "stdout",
     "output_type": "stream",
     "text": [
      "['n01734418', 'n01514668', 'n01560419', 'n01882714', 'n01770393', 'n01644373', 'n01630670', 'n01944390', 'n01697457', 'n01806143']\n",
      "Shift: base Accuracy: 0.898 :: avg cnf: 0.834562438\n",
      "Shift: in_the_rain Accuracy: 0.914 :: avg cnf: 0.8467809519999999\n",
      "Shift: in_the_snow Accuracy: 0.888 :: avg cnf: 0.8187982819999999\n",
      "Shift: at_dusk Accuracy: 0.9 :: avg cnf: 0.8188759800000001\n",
      "Shift: in_bright_sunlight Accuracy: 0.892 :: avg cnf: 0.82298944\n",
      "Shift: in_the_fog Accuracy: 0.856 :: avg cnf: 0.7828164300000001\n"
     ]
    }
   ],
   "source": [
    "cache_dir = Path(\"/raid/infolab/nlokesh/dataset-interfaces/cache\")\n",
    "shifts = [constants.BASE, constants.RAIN, constants.SNOW, constants.DUSK, constants.SUNLIGHT, constants.FOG]\n",
    "target_sysnets = Path(\"/raid/infolab/nlokesh/pranava/recourse-counterfactual-simulator/prompt-to-prompt/synthetic_data/NTI_base\").glob(\"*\")\n",
    "target_sysnets = [Path(p).name for p in target_sysnets]\n",
    "\n",
    "print(target_sysnets)\n",
    "\n",
    "for shift in shifts:\n",
    "    df = pd.read_csv(cache_dir / f\"{shift}_preds.csv\")\n",
    "    image_files = df[\"image_files\"].values\n",
    "\n",
    "    sysnet = [Path(p).parent.name for p in image_files]\n",
    "\n",
    "    filter_rows = [idx for idx, sys in enumerate(sysnet) if sys in target_sysnets]\n",
    "    df = df.iloc[filter_rows]\n",
    "\n",
    "    acc_meter = tu.AccuracyMeter(track=[\"acc\"])\n",
    "    acc_meter.reset()\n",
    "    acc_meter.update(y_preds=torch.Tensor(df[\"pred_y\"].values), y=torch.Tensor(df[\"true_y\"].values))\n",
    "\n",
    "    cnf = df[\"cnf\"].values\n",
    "    cnf = np.mean(cnf)\n",
    "    \n",
    "    print(f\"Shift: {shift} Accuracy: {acc_meter.accuracy()} :: avg cnf: {cnf}\")\n",
    "    \n"
   ]
  },
  {
   "cell_type": "code",
   "execution_count": null,
   "metadata": {},
   "outputs": [],
   "source": []
  }
 ],
 "metadata": {
  "kernelspec": {
   "display_name": "simrec",
   "language": "python",
   "name": "python3"
  },
  "language_info": {
   "codemirror_mode": {
    "name": "ipython",
    "version": 3
   },
   "file_extension": ".py",
   "mimetype": "text/x-python",
   "name": "python",
   "nbconvert_exporter": "python",
   "pygments_lexer": "ipython3",
   "version": "3.10.12"
  },
  "orig_nbformat": 4
 },
 "nbformat": 4,
 "nbformat_minor": 2
}
